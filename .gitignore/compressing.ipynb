{
 "cells": [
  {
   "cell_type": "code",
   "execution_count": 1,
   "id": "3030ddbf-541b-4964-b38c-9693e4feddd1",
   "metadata": {},
   "outputs": [
    {
     "name": "stdout",
     "output_type": "stream",
     "text": [
      "Compressed file saved as: compressed_similarity.pkl.gz\n"
     ]
    }
   ],
   "source": [
    "import gzip\n",
    "import pickle\n",
    "\n",
    "def compress_pickle_file(input_file, output_file):\n",
    "    with open(input_file, 'rb') as f_in:\n",
    "        with gzip.open(output_file, 'wb') as f_out:\n",
    "            pickle_data = f_in.read()\n",
    "            f_out.write(pickle_data)\n",
    "    print(f\"Compressed file saved as: {output_file}\")\n",
    "\n",
    "# Replace 'your_pickle_file.pkl' with your actual pickle file name\n",
    "input_file = 'movie_dict.pkl'\n",
    "output_file = 'compressed_movie_dict.pkl.gz'\n",
    "\n",
    "input_file2 = 'similarity.pkl'\n",
    "output_file2 = 'compressed_similarity.pkl.gz'\n",
    "\n",
    "compress_pickle_file(input_file2, output_file2)"
   ]
  }
 ],
 "metadata": {
  "kernelspec": {
   "display_name": "Python 3 (ipykernel)",
   "language": "python",
   "name": "python3"
  },
  "language_info": {
   "codemirror_mode": {
    "name": "ipython",
    "version": 3
   },
   "file_extension": ".py",
   "mimetype": "text/x-python",
   "name": "python",
   "nbconvert_exporter": "python",
   "pygments_lexer": "ipython3",
   "version": "3.12.0"
  }
 },
 "nbformat": 4,
 "nbformat_minor": 5
}
